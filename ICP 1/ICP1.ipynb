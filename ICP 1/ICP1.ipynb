{
  "cells": [
    {
      "attachments": {},
      "cell_type": "markdown",
      "metadata": {
        "id": "sjNTxd7QB-nm"
      },
      "source": []
    },
    {
      "cell_type": "code",
      "execution_count": 12,
      "metadata": {
        "colab": {
          "base_uri": "https://localhost:8080/"
        },
        "id": "5KOo77aLGy_7",
        "outputId": "1f75d40d-bda9-4e3d-e6d0-46286f024799"
      },
      "outputs": [
        {
          "name": "stdout",
          "output_type": "stream",
          "text": [
            "Mounted at /content/drive\n"
          ]
        }
      ],
      "source": [
        "# Mount Google Drive\n",
        "from google . colab import drive\n",
        "drive.mount('/content/drive')"
      ]
    },
    {
      "attachments": {},
      "cell_type": "markdown",
      "metadata": {
        "id": "jGYizh1-CADz"
      },
      "source": [
        "#Q1"
      ]
    },
    {
      "cell_type": "code",
      "execution_count": 9,
      "metadata": {
        "colab": {
          "base_uri": "https://localhost:8080/"
        },
        "id": "H_ehXuZqCIfM",
        "outputId": "35bf769b-8343-4fa9-df62-7881e6f63aef"
      },
      "outputs": [
        {
          "name": "stdout",
          "output_type": "stream",
          "text": [
            "Enter the string: Python\n",
            "htyP\n",
            "Enter a number1: 1\n",
            "Enter a number2: 2\n",
            "Sum: 3\n",
            "Sub: -1\n",
            "Mul: 2\n",
            "Div: 0.5\n"
          ]
        }
      ],
      "source": [
        "s = input(\"Enter the string: \") # take string input\n",
        "rs = s[::-1] # reverse the string\n",
        "print(rs[2:]) # print the string by removing 2 characters\n",
        "\n",
        "# Take 2 numbers as input\n",
        "n1 = int(input(\"Enter a number1: \"))\n",
        "n2 = int(input(\"Enter a number2: \"))\n",
        "\n",
        "# perform arithematic operations and print\n",
        "print(f\"Sum: {n1+n2}\")\n",
        "print(f\"Sub: {n1-n2}\")\n",
        "print(f\"Mul: {n1*n2}\")\n",
        "print(f\"Div: {n1/n2}\")"
      ]
    },
    {
      "attachments": {},
      "cell_type": "markdown",
      "metadata": {
        "id": "9q7MqG5zEMod"
      },
      "source": [
        "#Q2"
      ]
    },
    {
      "cell_type": "code",
      "execution_count": 8,
      "metadata": {
        "colab": {
          "base_uri": "https://localhost:8080/"
        },
        "id": "VWML7ShAET7x",
        "outputId": "d04e1e95-f1f4-4c4a-aca3-fe69559fa850"
      },
      "outputs": [
        {
          "name": "stdout",
          "output_type": "stream",
          "text": [
            "Enter the string: i love playing with python\n",
            "i love playing with pythons\n"
          ]
        }
      ],
      "source": [
        "s = input(\"Enter the string: \") # take string input\n",
        "print(s.replace('python','pythons')) # print the string by replacing python with pythons"
      ]
    },
    {
      "attachments": {},
      "cell_type": "markdown",
      "metadata": {
        "id": "BlA3pc3xEwyb"
      },
      "source": [
        "#Q3"
      ]
    },
    {
      "cell_type": "code",
      "execution_count": 10,
      "metadata": {
        "colab": {
          "base_uri": "https://localhost:8080/"
        },
        "id": "gPZPOjDqE0fL",
        "outputId": "636d9a5f-13f2-447a-ac64-b123d7f6ca05"
      },
      "outputs": [
        {
          "name": "stdout",
          "output_type": "stream",
          "text": [
            "Enter total Score: 78\n",
            "Grade C\n"
          ]
        }
      ],
      "source": [
        "score = int(input(\"Enter total Score: \")) # take total score as input\n",
        "\n",
        "# print the grade based on the total score using if-else \n",
        "if score >= 90:\n",
        "  print(\"Grade A\")\n",
        "elif score >= 80:\n",
        "  print(\"Grade B\")\n",
        "elif score >= 70:\n",
        "  print(\"Grade C\")\n",
        "elif score >= 60:\n",
        "  print(\"Grade D\")\n",
        "else:\n",
        "  print(\"Grade F\")\n"
      ]
    },
    {
      "attachments": {},
      "cell_type": "markdown",
      "metadata": {
        "id": "A3jWlfycEO6T"
      },
      "source": []
    }
  ],
  "metadata": {
    "colab": {
      "provenance": []
    },
    "kernelspec": {
      "display_name": "Python 3",
      "name": "python3"
    },
    "language_info": {
      "name": "python"
    }
  },
  "nbformat": 4,
  "nbformat_minor": 0
}
