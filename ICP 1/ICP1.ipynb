{
  "nbformat": 4,
  "nbformat_minor": 0,
  "metadata": {
    "colab": {
      "provenance": []
    },
    "kernelspec": {
      "name": "python3",
      "display_name": "Python 3"
    },
    "language_info": {
      "name": "python"
    }
  },
  "cells": [
    {
      "cell_type": "markdown",
      "source": [],
      "metadata": {
        "id": "sjNTxd7QB-nm"
      }
    },
    {
      "cell_type": "code",
      "source": [
        "# Mount Google Drive\n",
        "from google . colab import drive\n",
        "drive.mount('/content/drive')"
      ],
      "metadata": {
        "colab": {
          "base_uri": "https://localhost:8080/"
        },
        "id": "5KOo77aLGy_7",
        "outputId": "1f75d40d-bda9-4e3d-e6d0-46286f024799"
      },
      "execution_count": 12,
      "outputs": [
        {
          "output_type": "stream",
          "name": "stdout",
          "text": [
            "Mounted at /content/drive\n"
          ]
        }
      ]
    },
    {
      "cell_type": "markdown",
      "source": [
        "#Q1"
      ],
      "metadata": {
        "id": "jGYizh1-CADz"
      }
    },
    {
      "cell_type": "code",
      "source": [
        "s = input(\"Enter the string: \")\n",
        "rs = s[::-1]\n",
        "print(rs[2:])\n",
        "\n",
        "n1 = int(input(\"Enter a number1: \"))\n",
        "n2 = int(input(\"Enter a number2: \"))\n",
        "\n",
        "print(f\"Sum: {n1+n2}\")\n",
        "print(f\"Sub: {n1-n2}\")\n",
        "print(f\"Mul: {n1*n2}\")\n",
        "print(f\"Div: {n1/n2}\")"
      ],
      "metadata": {
        "colab": {
          "base_uri": "https://localhost:8080/"
        },
        "id": "H_ehXuZqCIfM",
        "outputId": "35bf769b-8343-4fa9-df62-7881e6f63aef"
      },
      "execution_count": 9,
      "outputs": [
        {
          "output_type": "stream",
          "name": "stdout",
          "text": [
            "Enter the string: Python\n",
            "htyP\n",
            "Enter a number1: 1\n",
            "Enter a number2: 2\n",
            "Sum: 3\n",
            "Sub: -1\n",
            "Mul: 2\n",
            "Div: 0.5\n"
          ]
        }
      ]
    },
    {
      "cell_type": "markdown",
      "source": [
        "#Q2"
      ],
      "metadata": {
        "id": "9q7MqG5zEMod"
      }
    },
    {
      "cell_type": "code",
      "source": [
        "s = input(\"Enter the string: \")\n",
        "print(s.replace('python','pythons'))"
      ],
      "metadata": {
        "colab": {
          "base_uri": "https://localhost:8080/"
        },
        "id": "VWML7ShAET7x",
        "outputId": "d04e1e95-f1f4-4c4a-aca3-fe69559fa850"
      },
      "execution_count": 8,
      "outputs": [
        {
          "output_type": "stream",
          "name": "stdout",
          "text": [
            "Enter the string: i love playing with python\n",
            "i love playing with pythons\n"
          ]
        }
      ]
    },
    {
      "cell_type": "markdown",
      "source": [
        "#Q3"
      ],
      "metadata": {
        "id": "BlA3pc3xEwyb"
      }
    },
    {
      "cell_type": "code",
      "source": [
        "score = int(input(\"Enter total Score: \"))\n",
        "if score >= 90:\n",
        "  print(\"Grade A\")\n",
        "elif score >= 80:\n",
        "  print(\"Grade B\")\n",
        "elif score >= 70:\n",
        "  print(\"Grade C\")\n",
        "elif score >= 60:\n",
        "  print(\"Grade D\")\n",
        "else:\n",
        "  print(\"Grade F\")\n"
      ],
      "metadata": {
        "colab": {
          "base_uri": "https://localhost:8080/"
        },
        "id": "gPZPOjDqE0fL",
        "outputId": "636d9a5f-13f2-447a-ac64-b123d7f6ca05"
      },
      "execution_count": 10,
      "outputs": [
        {
          "output_type": "stream",
          "name": "stdout",
          "text": [
            "Enter total Score: 78\n",
            "Grade C\n"
          ]
        }
      ]
    },
    {
      "cell_type": "markdown",
      "source": [],
      "metadata": {
        "id": "A3jWlfycEO6T"
      }
    }
  ]
}