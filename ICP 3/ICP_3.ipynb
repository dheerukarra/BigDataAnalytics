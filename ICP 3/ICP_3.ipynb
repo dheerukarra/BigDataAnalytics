{
  "nbformat": 4,
  "nbformat_minor": 0,
  "metadata": {
    "colab": {
      "provenance": []
    },
    "kernelspec": {
      "name": "python3",
      "display_name": "Python 3"
    },
    "language_info": {
      "name": "python"
    }
  },
  "cells": [
    {
      "cell_type": "code",
      "execution_count": 1,
      "metadata": {
        "colab": {
          "base_uri": "https://localhost:8080/"
        },
        "id": "-UZ0kfLCHBha",
        "outputId": "0fd20e14-35ff-46a0-ff19-b4c4ed8ed929"
      },
      "outputs": [
        {
          "output_type": "stream",
          "name": "stdout",
          "text": [
            "Mounted at /content/drive\n"
          ]
        }
      ],
      "source": [
        "# Mount Google Drive\n",
        "from google . colab import drive\n",
        "drive.mount('/content/drive')"
      ]
    },
    {
      "cell_type": "markdown",
      "source": [
        "#Q1"
      ],
      "metadata": {
        "id": "xJwDvXuuHTPs"
      }
    },
    {
      "cell_type": "code",
      "source": [
        "import numpy as np\n",
        "\n",
        "# Create a random vector of size 15 with integers in the range 1-20\n",
        "vector = np.random.randint(1, 21, 15)\n",
        "\n",
        "# Reshape the array to 3 by 5\n",
        "reshaped_array = vector.reshape(3, 5)\n",
        "print(f\"Reshaped Array: {reshaped_array}\")\n",
        "\n",
        "# Print array shape\n",
        "shape = reshaped_array.shape\n",
        "print(f\"Shape of Array: {shape}\")\n",
        "\n",
        "# Replace the max in each row by 0\n",
        "for row in reshaped_array:\n",
        "    row[row.argmax()] = 0\n",
        "\n",
        "print(f\"Array after replacing max by 0: {reshaped_array}\")\n"
      ],
      "metadata": {
        "colab": {
          "base_uri": "https://localhost:8080/"
        },
        "id": "MEdPCwLmHXPt",
        "outputId": "0d70bf8a-93ab-41a7-a9f7-8360d8a4be03"
      },
      "execution_count": 2,
      "outputs": [
        {
          "output_type": "stream",
          "name": "stdout",
          "text": [
            "Reshaped Array: [[ 7  6  9 13  6]\n",
            " [ 4 15  6  6  4]\n",
            " [18 12 19  4 19]]\n",
            "Shape of Array: (3, 5)\n",
            "Array after replacing max by 0: [[ 7  6  9  0  6]\n",
            " [ 4  0  6  6  4]\n",
            " [18 12  0  4 19]]\n"
          ]
        }
      ]
    },
    {
      "cell_type": "markdown",
      "source": [
        "#Q2"
      ],
      "metadata": {
        "id": "Vc8lhcqAIpPa"
      }
    },
    {
      "cell_type": "code",
      "source": [
        "# Create a 2-dimensional array of size 4x3 with 4-byte integer elements\n",
        "array_2d = np.random.randint(-2147483648, 2147483647, size=(4, 3), dtype=np.int32)\n",
        "\n",
        "# Get the shape, type, and data type of the array\n",
        "shape_2d = array_2d.shape\n",
        "type_2d = type(array_2d)\n",
        "dtype_2d = array_2d.dtype\n",
        "\n",
        "print(f\"2D Array: {array_2d}\")\n",
        "print(f\"Shape of array: {shape_2d}\")\n",
        "print(f\"Type of array: {type_2d}\")\n",
        "print(f\"Data type of array: {dtype_2d}\")\n"
      ],
      "metadata": {
        "colab": {
          "base_uri": "https://localhost:8080/"
        },
        "id": "tdiqsqRfIq2e",
        "outputId": "52ad6896-3f4d-4bd2-d08a-d5f084c9ee07"
      },
      "execution_count": 3,
      "outputs": [
        {
          "output_type": "stream",
          "name": "stdout",
          "text": [
            "2D Array: [[-1473741170  -119027319 -1026331127]\n",
            " [  375647621  -709209646   109918273]\n",
            " [ 1613723491  1509479639  2012054799]\n",
            " [ -517714807  -155514590 -1300385088]]\n",
            "Shape of array: (4, 3)\n",
            "Type of array: <class 'numpy.ndarray'>\n",
            "Data type of array: int32\n"
          ]
        }
      ]
    },
    {
      "cell_type": "markdown",
      "source": [
        "#Q3"
      ],
      "metadata": {
        "id": "eVBNKnIKJyGe"
      }
    },
    {
      "cell_type": "code",
      "source": [
        "# Given array\n",
        "array = np.array([[0, 1, 2], [3, 4, 5]])\n",
        "\n",
        "# Compute the sum of the diagonal elements\n",
        "diagonal_sum = np.trace(array)\n",
        "\n",
        "print(f\"Diagonal Sum: {diagonal_sum}\")"
      ],
      "metadata": {
        "colab": {
          "base_uri": "https://localhost:8080/"
        },
        "id": "tfLpaRSHJzkr",
        "outputId": "224225f1-608f-4514-ae9d-25e86cd0f8f5"
      },
      "execution_count": 4,
      "outputs": [
        {
          "output_type": "stream",
          "name": "stdout",
          "text": [
            "Diagonal Sum: 4\n"
          ]
        }
      ]
    },
    {
      "cell_type": "markdown",
      "source": [
        "#Q4"
      ],
      "metadata": {
        "id": "C9kJuAPlJ88w"
      }
    },
    {
      "cell_type": "code",
      "source": [
        "# To create an array of odd and even numbers between 10 to 70\n",
        "odd_numbers = np.arange(11, 70, 2)\n",
        "even_numbers = np.arange(10, 70, 2)\n",
        "\n",
        "# perform three element-wise mathematical operations using two arrays of the same size\n",
        "addition = odd_numbers + even_numbers\n",
        "multiplication = odd_numbers * even_numbers\n",
        "division = odd_numbers / even_numbers\n",
        "\n",
        "# sort a given array by row and column in ascending order\n",
        "given_array = np.array([[5.54, 3.38, 7.99],\n",
        "                        [3.54, 4.38, 6.99],\n",
        "                        [1.54, 2.39, 9.29]])\n",
        "sorted_by_row = np.sort(given_array, axis=1)\n",
        "sorted_by_column_and_row = np.sort(sorted_by_row, axis=0)\n",
        "\n",
        "print(f\"Odd Numbers Array: {odd_numbers}\")\n",
        "print(f\"Even Numbers Array: {even_numbers}\")\n",
        "print(f\"Addition: {addition}\")\n",
        "print(f\"Multiplication: {multiplication}\")\n",
        "print(f\"Division: {division}\")\n",
        "print(f\"Given Array after sorting by row and column: {sorted_by_column_and_row}\")"
      ],
      "metadata": {
        "colab": {
          "base_uri": "https://localhost:8080/"
        },
        "id": "_djAqnKgJ-tu",
        "outputId": "5d133bb6-0737-4ea4-a7be-d567d247885e"
      },
      "execution_count": 7,
      "outputs": [
        {
          "output_type": "stream",
          "name": "stdout",
          "text": [
            "Odd Numbers Array: [11 13 15 17 19 21 23 25 27 29 31 33 35 37 39 41 43 45 47 49 51 53 55 57\n",
            " 59 61 63 65 67 69]\n",
            "Even Numbers Array: [10 12 14 16 18 20 22 24 26 28 30 32 34 36 38 40 42 44 46 48 50 52 54 56\n",
            " 58 60 62 64 66 68]\n",
            "Addition: [ 21  25  29  33  37  41  45  49  53  57  61  65  69  73  77  81  85  89\n",
            "  93  97 101 105 109 113 117 121 125 129 133 137]\n",
            "Multiplication: [ 110  156  210  272  342  420  506  600  702  812  930 1056 1190 1332\n",
            " 1482 1640 1806 1980 2162 2352 2550 2756 2970 3192 3422 3660 3906 4160\n",
            " 4422 4692]\n",
            "Division: [1.1        1.08333333 1.07142857 1.0625     1.05555556 1.05\n",
            " 1.04545455 1.04166667 1.03846154 1.03571429 1.03333333 1.03125\n",
            " 1.02941176 1.02777778 1.02631579 1.025      1.02380952 1.02272727\n",
            " 1.02173913 1.02083333 1.02       1.01923077 1.01851852 1.01785714\n",
            " 1.01724138 1.01666667 1.01612903 1.015625   1.01515152 1.01470588]\n",
            "Given Array after sorting by row and column: [[1.54 2.39 6.99]\n",
            " [3.38 4.38 7.99]\n",
            " [3.54 5.54 9.29]]\n"
          ]
        }
      ]
    },
    {
      "cell_type": "markdown",
      "source": [
        "#Q5"
      ],
      "metadata": {
        "id": "z0aTmqlEMtYn"
      }
    },
    {
      "cell_type": "code",
      "source": [
        "# Declare the given array with NaN values\n",
        "array_with_nan = np.array([[4, 2, np.nan, 1],\n",
        "                          [11, 12, 14, 9],\n",
        "                          [5, np.nan, 1, np.nan]])\n",
        "\n",
        "# Find missing data by returning Boolean output\n",
        "missing_data = np.isnan(array_with_nan)\n",
        "\n",
        "print(f\"Is Nan: {missing_data}\")"
      ],
      "metadata": {
        "colab": {
          "base_uri": "https://localhost:8080/"
        },
        "id": "H7SC3fZwMu6N",
        "outputId": "ab72db51-bd2c-4b75-9943-dbf531e47a89"
      },
      "execution_count": 9,
      "outputs": [
        {
          "output_type": "stream",
          "name": "stdout",
          "text": [
            "Is Nan: [[False False  True False]\n",
            " [False False False False]\n",
            " [False  True False  True]]\n"
          ]
        }
      ]
    }
  ]
}