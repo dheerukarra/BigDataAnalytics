{
  "nbformat": 4,
  "nbformat_minor": 0,
  "metadata": {
    "colab": {
      "provenance": []
    },
    "kernelspec": {
      "name": "python3",
      "display_name": "Python 3"
    },
    "language_info": {
      "name": "python"
    }
  },
  "cells": [
    {
      "cell_type": "code",
      "source": [
        "# Mount Google Drive\n",
        "from google . colab import drive\n",
        "drive.mount('/content/drive')"
      ],
      "metadata": {
        "id": "07-fxhiADyPx"
      },
      "execution_count": null,
      "outputs": []
    },
    {
      "cell_type": "markdown",
      "source": [
        "#Q1\n"
      ],
      "metadata": {
        "id": "0p0Z69JpDnrR"
      }
    },
    {
      "cell_type": "code",
      "source": [
        "# Import the statistics Library\n",
        "import statistics as stats\n",
        "\n",
        "# List of ages\n",
        "ages = [19, 22, 19, 24, 20, 25, 26, 24, 25, 24]\n",
        "\n",
        "# Sort the ages in ascending order\n",
        "ages.sort()\n",
        "\n",
        "# Calculate the minimum and maximum ages\n",
        "min_age = min(ages)\n",
        "max_age = max(ages)\n",
        "\n",
        "# Print the minimum and maximum ages\n",
        "print(\"Min age: \", min_age)\n",
        "print(\"Max age: \", max_age)\n",
        "\n",
        "# Add the minimum and maximum ages to the list\n",
        "ages.append(min_age)\n",
        "ages.append(max_age)\n",
        "\n",
        "# Calculate and print the median using the statistics module\n",
        "print(f\"Median: {stats.median(ages)}\")\n",
        "\n",
        "# Calculate and print the average (mean)\n",
        "print(f\"Average: {sum(ages) / len(ages)}\")\n",
        "\n",
        "# Calculate and print the range (difference between max and min ages)\n",
        "print(f\"Range: {max_age - min_age}\")\n"
      ],
      "metadata": {
        "colab": {
          "base_uri": "https://localhost:8080/"
        },
        "id": "Xv5hPo8BHY7v",
        "outputId": "9b708e79-6d08-475c-8a4e-c3a236950c6a"
      },
      "execution_count": null,
      "outputs": [
        {
          "output_type": "stream",
          "name": "stdout",
          "text": [
            "Min age:  19\n",
            "Max age:  26\n",
            "Median: 24.0\n",
            "Average: 22.75\n",
            "Range: 7\n"
          ]
        }
      ]
    },
    {
      "cell_type": "markdown",
      "source": [
        "#Q2"
      ],
      "metadata": {
        "id": "k142q6mdHd2p"
      }
    },
    {
      "cell_type": "code",
      "source": [
        "# Initialize an empty dictionary for dog\n",
        "dog = {}\n",
        "\n",
        "# Add attributes to the dog dictionary using the update method\n",
        "dog.update({'name': 'Buddy', 'color': 'Brown',\n",
        "           'breed': 'Golden Retriever', 'legs': 4, 'age': 5})\n",
        "\n",
        "# Initialize a student dictionary with the given attributes\n",
        "student = {\n",
        "    'first_name': 'Dheeraj',\n",
        "    'last_name': 'Reddy',\n",
        "    'gender': 'Male',\n",
        "    'age': 22,\n",
        "    'marital_status': 'Single',\n",
        "    'skills': ['Python', 'JavaScript'],\n",
        "    'country': 'USA',\n",
        "    'city': 'New York',\n",
        "    'address': '123, Main Street'\n",
        "}\n",
        "\n",
        "# Print the number of key-value pairs in the student dictionary\n",
        "print(len(student))\n",
        "\n",
        "# Print the skills of the student using string formatting\n",
        "print(f\"skills: {student['skills']}\")\n",
        "\n",
        "# Print the data type of the 'skills' value in the student dictionary\n",
        "print(f\"Type of skills: {type(student['skills'])}\")\n",
        "\n",
        "# Add more skills to the student's skill set using the extend method\n",
        "student['skills'].extend(['Java', 'SQL'])\n",
        "\n",
        "# Get the keys and values from the student dictionary\n",
        "student_keys = list(student.keys())\n",
        "student_values = list(student.values())\n",
        "\n",
        "# Print the keys of the student dictionary\n",
        "print(f\"Keys: {student_keys}\")\n",
        "\n",
        "# Print the values of the student dictionary\n",
        "print(f\"Values: {student_values}\")\n"
      ],
      "metadata": {
        "colab": {
          "base_uri": "https://localhost:8080/"
        },
        "id": "31qVZcNOHfkK",
        "outputId": "c5699fe6-c82f-43cb-ac23-38d012772879"
      },
      "execution_count": null,
      "outputs": [
        {
          "output_type": "stream",
          "name": "stdout",
          "text": [
            "9\n",
            "skills: ['Python', 'JavaScript']\n",
            "Type of skills: <class 'list'>\n",
            "Keys: ['first_name', 'last_name', 'gender', 'age', 'marital_status', 'skills', 'country', 'city', 'address']\n",
            "Values: ['Dheeraj', 'Reddy', 'Male', 22, 'Single', ['Python', 'JavaScript', 'Java', 'SQL'], 'USA', 'New York', '123, Main Street']\n"
          ]
        }
      ]
    },
    {
      "cell_type": "markdown",
      "source": [
        "#Q3"
      ],
      "metadata": {
        "id": "YLIT7l6tPYCK"
      }
    },
    {
      "cell_type": "code",
      "source": [
        "# Given data\n",
        "it_companies = {'Facebook', 'Google', 'Microsoft',\n",
        "                'Apple', 'IBM', 'Oracle', 'Amazon'}\n",
        "A = {19, 22, 24, 20, 25, 26}\n",
        "B = {19, 22, 20, 25, 26, 24, 28, 27}\n",
        "age = [22, 19, 24, 25, 26, 24, 25, 24]\n",
        "\n",
        "# Performing operations as per given tasks:\n",
        "\n",
        "# Find the length of the set it_companies\n",
        "length_it_companies = len(it_companies)\n",
        "\n",
        "# Add 'Twitter' to it_companies\n",
        "it_companies.add('Twitter')\n",
        "\n",
        "# Insert multiple IT companies at once to the set it_companies\n",
        "it_companies.update(['Snapchat', 'Adobe'])\n",
        "\n",
        "# Remove one of the companies from the set it_companies\n",
        "it_companies.remove('Facebook')\n",
        "\n",
        "# Join A and B\n",
        "union_A_B = A.union(B)\n",
        "\n",
        "# Find A intersection B\n",
        "intersection_A_B = A.intersection(B)\n",
        "\n",
        "# Is A subset of B\n",
        "is_A_subset_of_B = A.issubset(B)\n",
        "\n",
        "# Are A and B disjoint sets\n",
        "are_A_B_disjoint = A.isdisjoint(B)\n",
        "\n",
        "# Join A with B and B with A (Both operations result in the same set, so we only need to do it once)\n",
        "union_B_A = B.union(A)\n",
        "\n",
        "# What is the symmetric difference between A and B\n",
        "symmetric_difference = A.symmetric_difference(B)\n",
        "\n",
        "# Convert the ages to a set and compare the length of the list and the set.\n",
        "ages_set = set(age)\n",
        "len_age_list = len(age)\n",
        "len_age_set = len(ages_set)\n",
        "\n",
        "# The result dictionary to store results\n",
        "results = {\n",
        "    \"length_it_companies\": length_it_companies,\n",
        "    \"it_companies_after_adding\": it_companies,\n",
        "    \"union_A_B\": union_A_B,\n",
        "    \"intersection_A_B\": intersection_A_B,\n",
        "    \"is_A_subset_of_B\": is_A_subset_of_B,\n",
        "    \"are_A_B_disjoint\": are_A_B_disjoint,\n",
        "    \"union_B_A\": union_B_A,\n",
        "    \"symmetric_difference\": symmetric_difference,\n",
        "    \"len_age_list\": len_age_list,\n",
        "    \"len_age_set\": len_age_set\n",
        "}\n",
        "\n",
        "print(results)\n",
        "\n",
        "# Deleting set\n",
        "del A\n",
        "try:\n",
        "  print(A)\n",
        "except:\n",
        "  print(\"Set A is deleted and Can't print it\")\n"
      ],
      "metadata": {
        "colab": {
          "base_uri": "https://localhost:8080/"
        },
        "id": "DAQORSOEPZZr",
        "outputId": "82c99100-8726-4686-8352-1193af728d00"
      },
      "execution_count": null,
      "outputs": [
        {
          "output_type": "stream",
          "name": "stdout",
          "text": [
            "{'length_it_companies': 7, 'it_companies_after_adding': {'Microsoft', 'Apple', 'Twitter', 'Oracle', 'Amazon', 'Google', 'Adobe', 'Snapchat', 'IBM'}, 'union_A_B': {19, 20, 22, 24, 25, 26, 27, 28}, 'intersection_A_B': {19, 20, 22, 24, 25, 26}, 'is_A_subset_of_B': True, 'are_A_B_disjoint': False, 'union_B_A': {19, 20, 22, 24, 25, 26, 27, 28}, 'symmetric_difference': {27, 28}, 'len_age_list': 8, 'len_age_set': 5}\n",
            "Set A is deleted and Can't print it\n"
          ]
        }
      ]
    },
    {
      "cell_type": "markdown",
      "source": [
        "#Q4"
      ],
      "metadata": {
        "id": "4ShSKKhePrha"
      }
    },
    {
      "cell_type": "code",
      "source": [
        "class Employee:\n",
        "    employee_count = 0\n",
        "\n",
        "    def __init__(self, name, family, salary, department):\n",
        "        self.name = name\n",
        "        self.family = family\n",
        "        self.salary = salary\n",
        "        self.department = department\n",
        "        Employee.employee_count += 1\n",
        "\n",
        "    @classmethod\n",
        "    def average_salary(cls, employees):\n",
        "        return sum(emp.salary for emp in employees) / len(employees)\n",
        "\n",
        "class FullTimeEmployee(Employee):\n",
        "    pass\n",
        "\n",
        "# Create instances and compute average salary\n",
        "employee1 = Employee(\"John\", \"Doe\", 50000, \"IT\")\n",
        "employee2 = FullTimeEmployee(\"Jane\", \"Smith\", 60000, \"Finance\")\n",
        "employee3 = FullTimeEmployee(\"Robert\", \"Johnson\", 70000, \"HR\")\n",
        "avg_salary = Employee.average_salary([employee1, employee2, employee3])\n",
        "\n",
        "print(f\"Average_salary: {avg_salary}\")\n",
        "print(f\"Employee_count: {Employee.employee_count}\")"
      ],
      "metadata": {
        "colab": {
          "base_uri": "https://localhost:8080/"
        },
        "id": "8S4oQYCoPuRL",
        "outputId": "96cf11fd-2e5b-4f9a-e1ae-1ded23ad3c29"
      },
      "execution_count": 1,
      "outputs": [
        {
          "output_type": "stream",
          "name": "stdout",
          "text": [
            "Average_salary: 60000.0\n",
            "Employee_count: 3\n"
          ]
        }
      ]
    }
  ]
}